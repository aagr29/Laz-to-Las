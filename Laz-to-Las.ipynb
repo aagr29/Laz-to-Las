{
 "cells": [
  {
   "cell_type": "code",
   "execution_count": 4,
   "id": "aa4adc81",
   "metadata": {
    "pycharm": {
     "name": "#%%\n"
    }
   },
   "outputs": [],
   "source": [
    "import laspy"
   ]
  },
  {
   "cell_type": "code",
   "execution_count": 5,
   "id": "c304a5fc",
   "metadata": {
    "pycharm": {
     "name": "#%%\n"
    }
   },
   "outputs": [],
   "source": [
    "las = laspy.read(\"/home/aniket-enzen/Downloads/conductors.laz\")"
   ]
  },
  {
   "cell_type": "code",
   "execution_count": 6,
   "id": "4bf35453",
   "metadata": {
    "pycharm": {
     "name": "#%%\n"
    }
   },
   "outputs": [],
   "source": [
    "las.write(\"/home/aniket-enzen/Downloads/conductors.las\")"
   ]
  },
  {
   "cell_type": "code",
   "execution_count": 6,
   "id": "de9d377c",
   "metadata": {
    "pycharm": {
     "name": "#%%\n"
    }
   },
   "outputs": [],
   "source": []
  }
 ],
 "metadata": {
  "kernelspec": {
   "display_name": "Python 3 (ipykernel)",
   "language": "python",
   "name": "python3"
  },
  "language_info": {
   "codemirror_mode": {
    "name": "ipython",
    "version": 3
   },
   "file_extension": ".py",
   "mimetype": "text/x-python",
   "name": "python",
   "nbconvert_exporter": "python",
   "pygments_lexer": "ipython3",
   "version": "3.10.4"
  }
 },
 "nbformat": 4,
 "nbformat_minor": 5
}